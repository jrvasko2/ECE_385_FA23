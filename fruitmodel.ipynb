{
 "cells": [
  {
   "cell_type": "code",
   "execution_count": 25,
   "id": "11348d5c",
   "metadata": {},
   "outputs": [],
   "source": [
    "import numpy as np\n",
    "import os\n",
    "import PIL\n",
    "import tensorflow as tf\n",
    "import pathlib\n",
    "\n",
    "from tensorflow import keras\n",
    "from tensorflow.keras import layers\n",
    "from tensorflow.keras.models import Sequential"
   ]
  },
  {
   "cell_type": "code",
   "execution_count": 34,
   "id": "830ded38",
   "metadata": {},
   "outputs": [
    {
     "name": "stdout",
     "output_type": "stream",
     "text": [
      "Found 296 files belonging to 2 classes.\n",
      "Using 237 files for training.\n",
      "Found 296 files belonging to 2 classes.\n",
      "Using 59 files for validation.\n"
     ]
    }
   ],
   "source": [
    "train_ds = tf.keras.utils.image_dataset_from_directory(\n",
    "    \"C:/Users/18472/385_xilinx_files/Untitled Folder/fruits_small/Training\",\n",
    "    validation_split = 0.2,\n",
    "    subset=\"training\",\n",
    "    seed=123,\n",
    "    image_size=(100,100),\n",
    "    batch_size=3\n",
    ")\n",
    "\n",
    "val_ds = tf.keras.utils.image_dataset_from_directory(\n",
    "    \"C:/Users/18472/385_xilinx_files/Untitled Folder/fruits_small/Training\",\n",
    "    validation_split = 0.2,\n",
    "    subset=\"validation\",\n",
    "    seed=123,\n",
    "    image_size=(100, 100),\n",
    "    batch_size=3\n",
    ")"
   ]
  },
  {
   "cell_type": "code",
   "execution_count": 35,
   "id": "a880a1d1",
   "metadata": {},
   "outputs": [
    {
     "name": "stdout",
     "output_type": "stream",
     "text": [
      "['Banana', 'NotBanana']\n"
     ]
    }
   ],
   "source": [
    "class_names = train_ds.class_names\n",
    "print(class_names)"
   ]
  },
  {
   "cell_type": "code",
   "execution_count": 36,
   "id": "bc8ae534",
   "metadata": {},
   "outputs": [],
   "source": [
    "num_classes = len(class_names)\n",
    "\n",
    "model = Sequential([\n",
    "    layers.Rescaling(1./255, input_shape=(100, 100, 3)),\n",
    "    layers.Conv2D(16, 3, padding='same', activation='relu'),\n",
    "    layers.MaxPooling2D(),\n",
    "    layers.Conv2D(32, 3, padding='same', activation='relu'),\n",
    "    layers.MaxPooling2D(),\n",
    "    layers.Conv2D(64, 3, padding='same', activation='relu'),\n",
    "    layers.MaxPooling2D(),\n",
    "    layers.Flatten(),\n",
    "    #layers.Dense(128, activation = 'relu'),\n",
    "    layers.Dense(num_classes, activation='softmax')\n",
    "])"
   ]
  },
  {
   "cell_type": "code",
   "execution_count": 37,
   "id": "e0da9fad",
   "metadata": {},
   "outputs": [
    {
     "name": "stdout",
     "output_type": "stream",
     "text": [
      "Model: \"sequential_5\"\n",
      "_________________________________________________________________\n",
      " Layer (type)                Output Shape              Param #   \n",
      "=================================================================\n",
      " rescaling_5 (Rescaling)     (None, 100, 100, 3)       0         \n",
      "                                                                 \n",
      " conv2d_15 (Conv2D)          (None, 100, 100, 16)      448       \n",
      "                                                                 \n",
      " max_pooling2d_15 (MaxPooli  (None, 50, 50, 16)        0         \n",
      " ng2D)                                                           \n",
      "                                                                 \n",
      " conv2d_16 (Conv2D)          (None, 50, 50, 32)        4640      \n",
      "                                                                 \n",
      " max_pooling2d_16 (MaxPooli  (None, 25, 25, 32)        0         \n",
      " ng2D)                                                           \n",
      "                                                                 \n",
      " conv2d_17 (Conv2D)          (None, 25, 25, 64)        18496     \n",
      "                                                                 \n",
      " max_pooling2d_17 (MaxPooli  (None, 12, 12, 64)        0         \n",
      " ng2D)                                                           \n",
      "                                                                 \n",
      " flatten_5 (Flatten)         (None, 9216)              0         \n",
      "                                                                 \n",
      " dense_7 (Dense)             (None, 2)                 18434     \n",
      "                                                                 \n",
      "=================================================================\n",
      "Total params: 42018 (164.13 KB)\n",
      "Trainable params: 42018 (164.13 KB)\n",
      "Non-trainable params: 0 (0.00 Byte)\n",
      "_________________________________________________________________\n"
     ]
    }
   ],
   "source": [
    "model.compile(optimizer='adam', loss=tf.keras.losses.SparseCategoricalCrossentropy(from_logits=False),metrics=['accuracy'])\n",
    "model.summary()"
   ]
  },
  {
   "cell_type": "code",
   "execution_count": 38,
   "id": "47a4c71e",
   "metadata": {},
   "outputs": [
    {
     "name": "stdout",
     "output_type": "stream",
     "text": [
      "Epoch 1/10\n",
      "79/79 [==============================] - 2s 19ms/step - loss: 0.5018 - accuracy: 0.7764 - val_loss: 0.3184 - val_accuracy: 0.8644\n",
      "Epoch 2/10\n",
      "79/79 [==============================] - 1s 16ms/step - loss: 0.1072 - accuracy: 0.9409 - val_loss: 0.0632 - val_accuracy: 0.9661\n",
      "Epoch 3/10\n",
      "79/79 [==============================] - 1s 16ms/step - loss: 0.0171 - accuracy: 1.0000 - val_loss: 0.1487 - val_accuracy: 0.9492\n",
      "Epoch 4/10\n",
      "79/79 [==============================] - 1s 16ms/step - loss: 0.0081 - accuracy: 1.0000 - val_loss: 0.0678 - val_accuracy: 0.9661\n",
      "Epoch 5/10\n",
      "79/79 [==============================] - 1s 16ms/step - loss: 0.0023 - accuracy: 1.0000 - val_loss: 0.0039 - val_accuracy: 1.0000\n",
      "Epoch 6/10\n",
      "79/79 [==============================] - 1s 16ms/step - loss: 5.5403e-04 - accuracy: 1.0000 - val_loss: 0.0036 - val_accuracy: 1.0000\n",
      "Epoch 7/10\n",
      "79/79 [==============================] - 1s 16ms/step - loss: 3.1156e-04 - accuracy: 1.0000 - val_loss: 0.0025 - val_accuracy: 1.0000\n",
      "Epoch 8/10\n",
      "79/79 [==============================] - 1s 17ms/step - loss: 2.2793e-04 - accuracy: 1.0000 - val_loss: 0.0022 - val_accuracy: 1.0000\n",
      "Epoch 9/10\n",
      "79/79 [==============================] - 1s 16ms/step - loss: 1.8604e-04 - accuracy: 1.0000 - val_loss: 0.0020 - val_accuracy: 1.0000\n",
      "Epoch 10/10\n",
      "79/79 [==============================] - 1s 16ms/step - loss: 1.5026e-04 - accuracy: 1.0000 - val_loss: 0.0017 - val_accuracy: 1.0000\n"
     ]
    }
   ],
   "source": [
    "epochs=10\n",
    "history=model.fit(\n",
    "    train_ds,\n",
    "    validation_data=val_ds,\n",
    "    epochs=epochs\n",
    ")"
   ]
  },
  {
   "cell_type": "code",
   "execution_count": 45,
   "id": "7e3b8d25",
   "metadata": {},
   "outputs": [
    {
     "name": "stdout",
     "output_type": "stream",
     "text": [
      "WARNING:tensorflow:5 out of the last 7 calls to <function Model.make_predict_function.<locals>.predict_function at 0x000001CDD11F6AF0> triggered tf.function retracing. Tracing is expensive and the excessive number of tracings could be due to (1) creating @tf.function repeatedly in a loop, (2) passing tensors with different shapes, (3) passing Python objects instead of tensors. For (1), please define your @tf.function outside of the loop. For (2), @tf.function has reduce_retracing=True option that can avoid unnecessary retracing. For (3), please refer to https://www.tensorflow.org/guide/function#controlling_retracing and https://www.tensorflow.org/api_docs/python/tf/function for  more details.\n",
      "1/1 [==============================] - 0s 60ms/step\n",
      "[[0.97661364 0.02338641]]\n"
     ]
    }
   ],
   "source": [
    "img = tf.keras.utils.load_img(\"C:/Users/18472/Downloads/IMG_3022.jpg\")\n",
    "img = tf.image.resize(img, (100, 100))\n",
    "input_arr = tf.keras.utils.img_to_array(img)\n",
    "input_arr = np.array([input_arr])  # Convert single image to a batch.\n",
    "predictions = model.predict(input_arr)\n",
    "print(predictions)"
   ]
  },
  {
   "cell_type": "code",
   "execution_count": null,
   "id": "4e3bd843",
   "metadata": {},
   "outputs": [],
   "source": []
  }
 ],
 "metadata": {
  "kernelspec": {
   "display_name": "Python 3 (ipykernel)",
   "language": "python",
   "name": "python3"
  },
  "language_info": {
   "codemirror_mode": {
    "name": "ipython",
    "version": 3
   },
   "file_extension": ".py",
   "mimetype": "text/x-python",
   "name": "python",
   "nbconvert_exporter": "python",
   "pygments_lexer": "ipython3",
   "version": "3.9.7"
  }
 },
 "nbformat": 4,
 "nbformat_minor": 5
}
